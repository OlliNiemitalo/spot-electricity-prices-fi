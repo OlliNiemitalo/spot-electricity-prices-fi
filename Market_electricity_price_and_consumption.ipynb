{
 "cells": [
  {
   "cell_type": "markdown",
   "metadata": {},
   "source": [
    "# Exchange electricity price and consumption\n",
    "Combines consumption manually downloaded from Fingrid Datahub with price history of Nord Pool exchange electricity retrieved from Entso-e Transparency Platform SFTP service.\n",
    "\n",
    "Before use:\n",
    "\n",
    "* The user must download the hourly consumption data themselves from https://oma.datahub.fi/.\n",
    "* The user must register for the Entso-e Transparency Platform service at https://transparency.entsoe.eu/."
   ]
  },
  {
   "cell_type": "markdown",
   "metadata": {},
   "source": [
    "## Configuration\n",
    "\n",
    "The location of Entso-e files is determined by the variable `entso_e_data_local_folder`. The location can be the same as the consumption data files according to the variable `consumption_data_local_folder` and the final product directory according to the variable `output_data_local_folder`."
   ]
  },
  {
   "cell_type": "code",
   "execution_count": null,
   "metadata": {},
   "outputs": [],
   "source": [
    "from getpass import getpass\n",
    "from pathlib import Path\n",
    "from glob import glob\n",
    "import pandas as pd\n",
    "import paramiko\n",
    "import os\n",
    "from datetime import datetime, timedelta, timezone\n",
    "\n",
    "entso_e_data_local_folder = f\"{Path.home()}/electricity_data\" # User configurable\n",
    "consumption_data_local_folder = f\"{Path.home()}/electricity_data\" # User configurable\n",
    "output_data_local_folder = f\"{Path.home()}/electricity_data\" # User configurable\n",
    "local_host_keys_filename = f\"{Path.home()}/known_hosts\" # User configurable\n",
    "\n",
    "os.makedirs(entso_e_data_local_folder, exist_ok=True) # Create folder if does not exist\n",
    "\n",
    "def get_entso_e_data_filename(year, month):\n",
    "    return f\"{year}_{month:02}_DayAheadPrices_12.1.D.csv\""
   ]
  },
  {
   "cell_type": "markdown",
   "metadata": {},
   "source": [
    "## Reading of consumption data\n",
    "All `*.csv` files are downloaded from the consumption data folder and filtered to only contain actual hourly kWh consumption data. The consumption data of approved files will be combined."
   ]
  },
  {
   "cell_type": "code",
   "execution_count": null,
   "metadata": {},
   "outputs": [],
   "source": [
    "consumption_data_datetime_col = \"Start Time\"\n",
    "consumption_data_consumption_col = \"Quantity\"\n",
    "consumption_data_resolution_col = \"Resolution\"\n",
    "consumption_data_unit_col = \"Unit Type\"\n",
    "consumption_data_quality_col = \"Quality\"\n",
    "\n",
    "def is_consumption_data(filename):\n",
    "    with open(filename, encoding=\"utf-8\") as file:\n",
    "        first_line = file.readline()\n",
    "        return consumption_data_datetime_col in first_line and consumption_data_consumption_col in first_line\n",
    "\n",
    "consumption_dict = {}\n",
    "year_month_dict = {}\n",
    "\n",
    "print(f\"Reading consumption data from {consumption_data_local_folder}/*.csv:\")\n",
    "for filename in filter(is_consumption_data, glob(f\"{consumption_data_local_folder}/*.csv\")):\n",
    "    df = pd.read_csv(filename, encoding=\"utf-8\", sep=\";\", decimal=\",\", index_col=consumption_data_datetime_col)\n",
    "    df = df[(df[consumption_data_quality_col] == \"OK\") & (df[consumption_data_resolution_col] == \"PT1H\") & (df[consumption_data_unit_col] == \"kWh\")]\n",
    "    df.index = pd.to_datetime(df.index, utc=True)\n",
    "    df[consumption_data_consumption_col] = df[consumption_data_consumption_col]\n",
    "    num_hours = 0\n",
    "    for index, row in df.iterrows():\n",
    "        val = row[consumption_data_consumption_col]\n",
    "        if index in consumption_dict:\n",
    "            consumption_dict[index] = max(consumption_dict[index], val) # A larger consumption is probably more up to date\n",
    "        else:\n",
    "            consumption_dict[index] = val\n",
    "        year_month_dict[(index.year, index.month)] = True\n",
    "        num_hours += 1\n",
    "    print(f\"Read {num_hours} hours from {filename}\")\n",
    "\n",
    "print()\n",
    "print(\"Consumption data read for the following (year, month) combinations:\")\n",
    "print(sorted(year_month_dict.keys()))"
   ]
  },
  {
   "cell_type": "markdown",
   "metadata": {},
   "source": [
    "## Entso-e login data entry"
   ]
  },
  {
   "cell_type": "code",
   "execution_count": null,
   "metadata": {
    "colab": {
     "base_uri": "https://localhost:8080/"
    },
    "id": "",
    "outputId": ""
   },
   "outputs": [],
   "source": [
    "user = input(\"Entso-e e-mail:\")\n",
    "password = getpass(\"Entso-e password:\")\n",
    "print(\"Entso-e SFTP username and password set\")"
   ]
  },
  {
   "cell_type": "markdown",
   "metadata": {},
   "source": [
    "## Price history download from Entso-e SFTP server\n",
    "\n",
    "The price history is loaded into the folder specified by the variable `enso_e_data_local_folder' for the months corresponding to the consumption data. Only files newer than the local ones are downloaded from the Entso-e SFTP server."
   ]
  },
  {
   "cell_type": "code",
   "execution_count": null,
   "metadata": {
    "colab": {
     "base_uri": "https://localhost:8080/",
     "height": 380
    },
    "id": "",
    "outputId": ""
   },
   "outputs": [],
   "source": [
    "entso_e_host = \"sftp-transparency.entsoe.eu\"\n",
    "entso_e_port = 22\n",
    "entso_e_data_remote_folder = \"/TP_export/DayAheadPrices_12.1.D\"\n",
    "\n",
    "class PromptPolicy(paramiko.client.MissingHostKeyPolicy):\n",
    "    def missing_host_key(self, client, hostname, key):\n",
    "        answer = input(f\"Accept new key {key.get_base64()} (y/n)?\")\n",
    "        if answer == \"y\":\n",
    "            answer = input(f\"Save key in {local_host_keys_filename} (y/n)?\")\n",
    "            if answer == \"y\":\n",
    "                client._host_keys.add(hostname, key.get_name(), key)\n",
    "                Path(client._host_keys_filename).touch()\n",
    "                client.save_host_keys(client._host_keys_filename)\n",
    "                print(f\"Saved key in {client._host_keys_filename}\")\n",
    "            return\n",
    "        raise Exception(\"Unknown host key, not accepted by user\")\n",
    "\n",
    "ssh = paramiko.client.SSHClient()\n",
    "ssh.load_system_host_keys()\n",
    "try:\n",
    "    ssh.load_host_keys(local_host_keys_filename)\n",
    "except:\n",
    "    None\n",
    "promptPolicy = PromptPolicy()\n",
    "ssh.set_missing_host_key_policy(promptPolicy)\n",
    "try:\n",
    "    print(\"Opening Entso-e SSH connection\")\n",
    "    ssh.connect(entso_e_host, port=entso_e_port, username=user, password=password)\n",
    "    try:\n",
    "        print(\"Opening Entso-e SFTP connection using the SSH connection\")\n",
    "        sftp = ssh.open_sftp()\n",
    "        try:\n",
    "            print(f\"Downloading data to {entso_e_data_local_folder}:\")\n",
    "            for year, month in sorted(year_month_dict.keys()):                \n",
    "                entso_e_data_filename = get_entso_e_data_filename(year, month)\n",
    "                try:\n",
    "                    st_mtime = sftp.stat(f\"{entso_e_data_remote_folder}/{entso_e_data_filename}\").st_mtime\n",
    "                    try:\n",
    "                        local_st_mtime = os.stat(f\"{entso_e_data_local_folder}/{entso_e_data_filename}\").st_mtime\n",
    "                    except:\n",
    "                        local_st_mtime = 0\n",
    "                    if st_mtime == local_st_mtime:\n",
    "                        print(f\"{entso_e_data_filename} already up to date\")\n",
    "                    else:\n",
    "                        print(f\"{entso_e_data_filename} downloading...\")\n",
    "                        sftp.get(f\"{entso_e_data_remote_folder}/{entso_e_data_filename}\", f\"{entso_e_data_local_folder}/{entso_e_data_filename}\")\n",
    "                        try:\n",
    "                            os.utime(f\"{entso_e_data_local_folder}/{entso_e_data_filename}\", (st_mtime, st_mtime))\n",
    "                        except:\n",
    "                            print(\"ERROR: Could not update modified time\")\n",
    "                except:\n",
    "                    print(f\"{entso_e_data_filename} not available from Entso-e\")\n",
    "            print(f\"Finished downloading data\")\n",
    "        except:\n",
    "            print(\"ERROR downloading data\")        \n",
    "        sftp.close()\n",
    "        print(\"Closed SFTP connection\")\n",
    "    except:\n",
    "        print(\"ERROR opening SFTP connection\")\n",
    "    ssh.close()\n",
    "    print(\"Closed SSH connection\")\n",
    "except:\n",
    "    print(\"ERROR opening SSH connection\")\n"
   ]
  },
  {
   "cell_type": "markdown",
   "metadata": {},
   "source": [
    "## Loading price information"
   ]
  },
  {
   "cell_type": "code",
   "execution_count": null,
   "metadata": {},
   "outputs": [],
   "source": [
    "entso_e_data_datetime_col = \"DateTime\"\n",
    "entso_e_data_area_col = \"AreaCode\"\n",
    "entso_e_data_resolution_col = \"ResolutionCode\"\n",
    "entso_e_data_currency_col = \"Currency\"\n",
    "entso_e_data_price_col = \"Price\"\n",
    "\n",
    "price_dict = {}\n",
    "\n",
    "print(f\"Reading price data...\")\n",
    "for year, month in sorted(year_month_dict.keys()):\n",
    "    try:\n",
    "        filename = get_entso_e_data_filename(year, month)\n",
    "        df = pd.read_csv(f\"{entso_e_data_local_folder}/{filename}\", encoding=\"utf-8\", sep=\"\\t\", decimal=\".\", index_col=entso_e_data_datetime_col)\n",
    "        df = df[(df[entso_e_data_area_col] == \"10YFI-1--------U\") & (df[entso_e_data_resolution_col] == \"PT60M\") & (df[entso_e_data_currency_col] == \"EUR\")]\n",
    "        df.index = pd.to_datetime(df.index, utc=True)\n",
    "        df[entso_e_data_price_col] = df[entso_e_data_price_col]\n",
    "        for index, row in df.iterrows():\n",
    "            price_dict[index] = row[entso_e_data_price_col]\n",
    "    except:\n",
    "        print(f\"ERROR reading/parsing {entso_e_data_local_folder}/{filename}\")\n",
    "        \n",
    "print(\"Finished reading price data\")"
   ]
  },
  {
   "cell_type": "markdown",
   "metadata": {},
   "source": [
    "## Combining price and consumption data\n",
    "\n",
    "Enter the first hour of the period to be considered in the variable `start_datetime_string` and the hour after the last hour in the variable `end_datetime_string` in ISO format. Times can also define a time zone, e.g. `2022-11-04T00:00:00+02:00` at midnight Finnish time (summer time would be `+03:00`). If no time zone is specified, the computer's time zone is used, which in Finland is usually conveniently Finnish time.\n",
    "\n",
    "The combined consumption and price data are stored in the directory of the previously defined variable `output_data_local_folder` under the name `Consumption and spot price START TIME to END TIME.csv` where the aforementioned times are placed (the `+` of a possible time zone is replaced by `p`). The `DateTime` values written to the CSV file are in ISO format in the UTC time zone."
   ]
  },
  {
   "cell_type": "code",
   "execution_count": null,
   "metadata": {},
   "outputs": [],
   "source": [
    "start_datetime_string = \"2022-11-01\" # User configurable. Must be the start of an hour\n",
    "end_datetime_string = \"2022-12-01\" # User configurable. Note that this datetime is excluded but the previous hour will be included\n",
    "\n",
    "start_datetime = datetime.fromisoformat(start_datetime_string).astimezone(timezone.utc)\n",
    "end_datetime = datetime.fromisoformat(end_datetime_string).astimezone(timezone.utc)\n",
    "hour_timedelta = timedelta(hours=1)\n",
    "t = start_datetime\n",
    "datetimes = []\n",
    "consumptions = []\n",
    "prices = []\n",
    "while t < end_datetime:\n",
    "    datetimes.append(t)\n",
    "    try:\n",
    "        consumptions.append(consumption_dict[t])\n",
    "    except:\n",
    "        consumptions.append(\"\")\n",
    "    try:\n",
    "        prices.append(price_dict[t])\n",
    "    except:\n",
    "        prices.append(\"\")\n",
    "    t += hour_timedelta\n",
    "output = pd.DataFrame({\"DateTime\": datetimes, \"Consumption (kWh)\": consumptions, \"Price (€/MWh)\": prices})\n",
    "output.set_index(\"DateTime\")\n",
    "output_filename = f\"{output_data_local_folder}/Consumption and spot price {start_datetime_string.replace('+','p')} to {end_datetime_string.replace('+','p')}.csv\"\n",
    "output.to_csv(output_filename, index=False)\n",
    "print(f\"Wrote output file {output_filename}\")"
   ]
  }
 ],
 "metadata": {
  "colab": {
   "provenance": []
  },
  "kernelspec": {
   "display_name": "Python 3 (ipykernel)",
   "language": "python",
   "name": "python3"
  },
  "language_info": {
   "codemirror_mode": {
    "name": "ipython",
    "version": 3
   },
   "file_extension": ".py",
   "mimetype": "text/x-python",
   "name": "python",
   "nbconvert_exporter": "python",
   "pygments_lexer": "ipython3",
   "version": "3.8.10"
  },
  "vscode": {
   "interpreter": {
    "hash": "d904e19baa4e0b7562dd659bde2d7ba4d4878d31e119864319cac6bba9d9af6b"
   }
  }
 },
 "nbformat": 4,
 "nbformat_minor": 1
}
